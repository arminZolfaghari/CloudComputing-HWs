{
  "nbformat": 4,
  "nbformat_minor": 0,
  "metadata": {
    "colab": {
      "provenance": []
    },
    "kernelspec": {
      "name": "python3",
      "display_name": "Python 3"
    },
    "language_info": {
      "name": "python"
    }
  },
  "cells": [
    {
      "cell_type": "code",
      "execution_count": 17,
      "metadata": {
        "id": "5CutZ2hmOnbj"
      },
      "outputs": [],
      "source": [
        "import requests"
      ]
    },
    {
      "cell_type": "markdown",
      "source": [
        "## Image captioning "
      ],
      "metadata": {
        "id": "us-gdJZTQdDb"
      }
    },
    {
      "cell_type": "code",
      "source": [
        "API_TOKEN = \"1d2c5a00d04ac30c93dba6185a304160fb75312b\"\n",
        "IMAGE_URL = 'https://etude.design/wp-content/uploads/2020/06/%D8%B9%DA%A9%D8%B3-%D8%AE%D8%A7%D9%86%D9%87-%D9%82%D8%AF%DB%8C%D9%85%DB%8C-27.jpg'"
      ],
      "metadata": {
        "id": "3JM8QpwhPLbE"
      },
      "execution_count": 18,
      "outputs": []
    },
    {
      "cell_type": "code",
      "source": [
        "create_prediction_url = \"https://api.replicate.com/v1/predictions\"\n",
        "\n",
        "headers = {\n",
        "    'Authorization': f\"Token {API_TOKEN}\",\n",
        "}\n",
        "\n",
        "json_data = {\n",
        "    'version': 'd703881e7b50eb009779b7e1e79d394639df0af71be28c4100f88c03fdccdbf0',\n",
        "    'input': {\n",
        "        'image': IMAGE_URL\n",
        "    },\n",
        "}\n",
        "\n",
        "response = requests.post(create_prediction_url, headers=headers, json=json_data)\n",
        "print(response.json())"
      ],
      "metadata": {
        "colab": {
          "base_uri": "https://localhost:8080/"
        },
        "id": "g1CJnmOfP3pz",
        "outputId": "1d5cfff3-7427-432c-8a7e-768a64b2c40e"
      },
      "execution_count": 19,
      "outputs": [
        {
          "output_type": "stream",
          "name": "stdout",
          "text": [
            "{'id': '46pedwxnnja75ivzp6i2p73rcm', 'version': 'd703881e7b50eb009779b7e1e79d394639df0af71be28c4100f88c03fdccdbf0', 'urls': {'get': 'https://api.replicate.com/v1/predictions/46pedwxnnja75ivzp6i2p73rcm', 'cancel': 'https://api.replicate.com/v1/predictions/46pedwxnnja75ivzp6i2p73rcm/cancel'}, 'created_at': '2022-10-02T19:55:25.965977Z', 'completed_at': None, 'status': 'starting', 'input': {'image': 'https://etude.design/wp-content/uploads/2020/06/%D8%B9%DA%A9%D8%B3-%D8%AE%D8%A7%D9%86%D9%87-%D9%82%D8%AF%DB%8C%D9%85%DB%8C-27.jpg'}, 'output': None, 'error': None, 'logs': None, 'metrics': {}}\n"
          ]
        }
      ]
    },
    {
      "cell_type": "code",
      "source": [
        "get_prediction_url = response.json()['urls']['get']\n",
        "\n",
        "headers = {\n",
        "    'Authorization': f\"Token {API_TOKEN}\",\n",
        "}\n",
        "\n",
        "response = requests.get(get_prediction_url, headers=headers)\n",
        "print(response.json()['output'])\n"
      ],
      "metadata": {
        "colab": {
          "base_uri": "https://localhost:8080/"
        },
        "id": "W13KHHGxRT9G",
        "outputId": "a40e171f-dcf9-4f73-c2a9-1fade0404b37"
      },
      "execution_count": 24,
      "outputs": [
        {
          "output_type": "stream",
          "name": "stdout",
          "text": [
            "[{'text': 'A bed sitting in a bedroom next to a window.'}]\n"
          ]
        }
      ]
    },
    {
      "cell_type": "markdown",
      "source": [
        "## Email delivery\n"
      ],
      "metadata": {
        "id": "VkGqxOwJu93v"
      }
    },
    {
      "cell_type": "code",
      "source": [
        "DOMAIN = \"sandboxa9bdf0ee62204a238b0b3d160939e40f.mailgun.org\"\n",
        "API_KEY = \"18df91fb9cddc99c36699961577c0c5b-4534758e-7d6c64e3\"\n",
        "EMAIL_ADDRESS = \"arminzd@aut.ac.ir\"\n",
        "TEXT = \"Testing some Mailgun awesomeness!\"\n",
        "SUBJECT = \"Cloud Computing HW1\""
      ],
      "metadata": {
        "id": "OKGZizd2RfB2"
      },
      "execution_count": 40,
      "outputs": []
    },
    {
      "cell_type": "code",
      "source": [
        "def send_simple_message(email, subject, text):\n",
        "\treturn requests.post(\n",
        "\t\tf\"https://api.mailgun.net/v3/{DOMAIN}/messages\",\n",
        "\t\tauth=(\"api\", API_KEY),\n",
        "\t\tdata={\"from\": f\"<mailgun@{DOMAIN}>\",\n",
        "\t\t\t\"to\": [email],\n",
        "\t\t\t\"subject\": subject,\n",
        "\t\t\t\"text\": text})"
      ],
      "metadata": {
        "id": "inEwlplbu-CV"
      },
      "execution_count": 41,
      "outputs": []
    },
    {
      "cell_type": "code",
      "source": [
        "send_simple_message(EMAIL_ADDRESS,SUBJECT, TEXT)"
      ],
      "metadata": {
        "colab": {
          "base_uri": "https://localhost:8080/"
        },
        "id": "04j_Ban_Islp",
        "outputId": "663172e2-03ed-459a-ee0e-36bf96325822"
      },
      "execution_count": 43,
      "outputs": [
        {
          "output_type": "execute_result",
          "data": {
            "text/plain": [
              "<Response [200]>"
            ]
          },
          "metadata": {},
          "execution_count": 43
        }
      ]
    },
    {
      "cell_type": "markdown",
      "source": [
        "## Image tagging\n"
      ],
      "metadata": {
        "id": "4kVfuqO9zrBj"
      }
    },
    {
      "cell_type": "code",
      "source": [
        "API_KEY = 'acc_423f6cdb27cd097'\n",
        "API_SECRET = '1047e7b03f2df466ebea2da0c92fcd1f'\n",
        "IMAGE_URL = 'https://s101.divarcdn.com/static/pictures/1664696001/wY50Dwz_.jpg'"
      ],
      "metadata": {
        "id": "WuVJ202FS9wv"
      },
      "execution_count": 56,
      "outputs": []
    },
    {
      "cell_type": "code",
      "source": [
        "import requests\n",
        "\n",
        "response = requests.get(\n",
        "    'https://api.imagga.com/v2/tags?image_url=%s' % IMAGE_URL,\n",
        "    auth=(API_KEY, API_SECRET))\n",
        "\n",
        "print(response.json()['result']['tags'])"
      ],
      "metadata": {
        "colab": {
          "base_uri": "https://localhost:8080/"
        },
        "id": "j_OHYTZfztie",
        "outputId": "eb26bdd9-3014-49fb-eb49-3963366bc3da"
      },
      "execution_count": 58,
      "outputs": [
        {
          "output_type": "stream",
          "name": "stdout",
          "text": [
            "[{'confidence': 100, 'tag': {'en': 'running shoe'}}, {'confidence': 100, 'tag': {'en': 'shoe'}}, {'confidence': 100, 'tag': {'en': 'footwear'}}, {'confidence': 64.068489074707, 'tag': {'en': 'covering'}}, {'confidence': 39.3492851257324, 'tag': {'en': 'shoes'}}, {'confidence': 30.213716506958, 'tag': {'en': 'pair'}}, {'confidence': 26.6503047943115, 'tag': {'en': 'boxing glove'}}, {'confidence': 24.2476711273193, 'tag': {'en': 'clothing'}}, {'confidence': 22.7790641784668, 'tag': {'en': 'leather'}}, {'confidence': 21.915246963501, 'tag': {'en': 'foot'}}, {'confidence': 20.6104793548584, 'tag': {'en': 'lace'}}, {'confidence': 19.7600250244141, 'tag': {'en': 'sport'}}, {'confidence': 19.7466335296631, 'tag': {'en': 'boxing equipment'}}, {'confidence': 17.9220657348633, 'tag': {'en': 'boot'}}, {'confidence': 17.5600318908691, 'tag': {'en': 'boots'}}, {'confidence': 17.3340225219727, 'tag': {'en': 'fashion'}}, {'confidence': 15.7738809585571, 'tag': {'en': 'sports equipment'}}, {'confidence': 15.492057800293, 'tag': {'en': 'equipment'}}, {'confidence': 14.0431518554688, 'tag': {'en': 'rose'}}, {'confidence': 12.8196840286255, 'tag': {'en': 'laces'}}, {'confidence': 12.4733781814575, 'tag': {'en': 'running'}}, {'confidence': 12.3116960525513, 'tag': {'en': 'walking'}}, {'confidence': 11.7074909210205, 'tag': {'en': 'pink'}}, {'confidence': 11.5299243927002, 'tag': {'en': 'flower'}}, {'confidence': 10.6348114013672, 'tag': {'en': 'feet'}}, {'confidence': 10.5529651641846, 'tag': {'en': 'wear'}}, {'confidence': 10.5250778198242, 'tag': {'en': 'new'}}, {'confidence': 10.4169073104858, 'tag': {'en': 'health'}}, {'confidence': 10.2553901672363, 'tag': {'en': 'object'}}, {'confidence': 9.99712753295898, 'tag': {'en': 'child'}}, {'confidence': 9.93756008148193, 'tag': {'en': 'dirty'}}, {'confidence': 9.86358070373535, 'tag': {'en': 'box'}}, {'confidence': 9.71527004241943, 'tag': {'en': 'little'}}, {'confidence': 9.52036380767822, 'tag': {'en': 'walk'}}, {'confidence': 9.36893749237061, 'tag': {'en': 'baby'}}, {'confidence': 9.31399059295654, 'tag': {'en': 'two'}}, {'confidence': 9.01545524597168, 'tag': {'en': 'black'}}, {'confidence': 8.84644222259521, 'tag': {'en': 'sole'}}, {'confidence': 8.69674587249756, 'tag': {'en': 'accessories'}}, {'confidence': 8.42804050445557, 'tag': {'en': 'clothes'}}, {'confidence': 8.24648666381836, 'tag': {'en': 'human'}}, {'confidence': 8.13101577758789, 'tag': {'en': 'fitness'}}, {'confidence': 8.08304977416992, 'tag': {'en': 'closeup'}}, {'confidence': 8.06058311462402, 'tag': {'en': 'childhood'}}, {'confidence': 7.97657680511475, 'tag': {'en': 'kid'}}, {'confidence': 7.97430372238159, 'tag': {'en': 'home'}}, {'confidence': 7.89306783676147, 'tag': {'en': 'sneakers'}}, {'confidence': 7.88732862472534, 'tag': {'en': 'love'}}, {'confidence': 7.8283576965332, 'tag': {'en': 'objects'}}, {'confidence': 7.80020523071289, 'tag': {'en': 'male'}}, {'confidence': 7.73998975753784, 'tag': {'en': 'gift'}}, {'confidence': 7.67820262908936, 'tag': {'en': 'used'}}, {'confidence': 7.66124534606934, 'tag': {'en': 'old'}}, {'confidence': 7.6293420791626, 'tag': {'en': 'accessory'}}, {'confidence': 7.35698413848877, 'tag': {'en': 'brown'}}, {'confidence': 7.07426691055298, 'tag': {'en': 'summer'}}]\n"
          ]
        }
      ]
    }
  ]
}