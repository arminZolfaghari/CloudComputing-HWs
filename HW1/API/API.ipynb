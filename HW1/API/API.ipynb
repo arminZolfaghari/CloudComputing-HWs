{
  "nbformat": 4,
  "nbformat_minor": 0,
  "metadata": {
    "colab": {
      "provenance": [],
      "collapsed_sections": []
    },
    "kernelspec": {
      "name": "python3",
      "display_name": "Python 3"
    },
    "language_info": {
      "name": "python"
    }
  },
  "cells": [
    {
      "cell_type": "code",
      "execution_count": 1,
      "metadata": {
        "id": "5CutZ2hmOnbj"
      },
      "outputs": [],
      "source": [
        "import requests"
      ]
    },
    {
      "cell_type": "markdown",
      "source": [
        "## Email delivery ([Mailgun](https://www.mailgun.com/))\n"
      ],
      "metadata": {
        "id": "VkGqxOwJu93v"
      }
    },
    {
      "cell_type": "code",
      "source": [
        "EMAIL_ADDRESS = \"test@gmail.com\"\n",
        "SUBJECT = \"Cloud Computing HW1\"\n",
        "TEXT = \"Your ad (ID) has been accepted!\""
      ],
      "metadata": {
        "id": "OKGZizd2RfB2"
      },
      "execution_count": 10,
      "outputs": []
    },
    {
      "cell_type": "code",
      "source": [
        "# get YOUR_DOMAIN_NAME and YOUR_API_KEY from Mailgun dashboard\n",
        "def send_simple_message(email, subject, text):\n",
        "\treturn requests.post(\n",
        "\t\tf\"https://api.mailgun.net/v3/YOUR_DOMAIN_NAME/messages\",\n",
        "\t\tauth=(\"api\", \"YOUR_API_KEY\"),\n",
        "\t\tdata={\"from\": \"<mailgun@YOUR_DOMAIN_NAME>\",\n",
        "\t\t\t\"to\": [email],\n",
        "\t\t\t\"subject\": subject,\n",
        "\t\t\t\"text\": text})"
      ],
      "metadata": {
        "id": "inEwlplbu-CV"
      },
      "execution_count": 11,
      "outputs": []
    },
    {
      "cell_type": "code",
      "source": [
        "response = send_simple_message(EMAIL_ADDRESS, SUBJECT, TEXT)\n",
        "print(response.json())"
      ],
      "metadata": {
        "colab": {
          "base_uri": "https://localhost:8080/"
        },
        "id": "04j_Ban_Islp",
        "outputId": "65e63f28-38b3-4d0e-e4d1-1bfe2aa9edbc"
      },
      "execution_count": 12,
      "outputs": [
        {
          "output_type": "stream",
          "name": "stdout",
          "text": [
            "{'id': '<20221107203304.e9c19fff538a1bd4@sandbox69a919b755ef468da1c969e2550a6e1a.mailgun.org>', 'message': 'Queued. Thank you.'}\n"
          ]
        }
      ]
    },
    {
      "cell_type": "markdown",
      "source": [
        "## Image tagging ([Imagga](https://imagga.com/))\n",
        "\n",
        "\n",
        "\n"
      ],
      "metadata": {
        "id": "4kVfuqO9zrBj"
      }
    },
    {
      "cell_type": "code",
      "source": [
        "API_KEY = 'acc_423f6cdb27cd097'\n",
        "API_SECRET = '1047e7b03f2df466ebea2da0c92fcd1f'\n",
        "IMAGE_URL = 'https://wallpapercave.com/wp/wp3503654.jpg'"
      ],
      "metadata": {
        "id": "WuVJ202FS9wv"
      },
      "execution_count": 5,
      "outputs": []
    },
    {
      "cell_type": "markdown",
      "source": [
        "<figure>\n",
        "<center>\n",
        "<img src='https://wallpapercave.com/wp/wp3503654.jpg' width=50% />\n",
        "<figcaption>Image</figcaption></center>\n",
        "</figure>\n"
      ],
      "metadata": {
        "id": "qCvo9nF-cZBI"
      }
    },
    {
      "cell_type": "code",
      "source": [
        "response = requests.get(\n",
        "    'https://api.imagga.com/v2/tags?image_url=%s' % IMAGE_URL,\n",
        "    auth=(API_KEY, API_SECRET))\n",
        "\n",
        "tags = response.json()['result']['tags']\n",
        "for tag in tags:\n",
        "  confidence = tag['confidence']\n",
        "  tag_name = tag['tag']['en']\n",
        "  print(f'Confidence: {confidence}, tag: {tag_name}')"
      ],
      "metadata": {
        "colab": {
          "base_uri": "https://localhost:8080/"
        },
        "id": "j_OHYTZfztie",
        "outputId": "0c6059ce-d68c-4cf7-e30f-25c081b91d3d"
      },
      "execution_count": 6,
      "outputs": [
        {
          "output_type": "stream",
          "name": "stdout",
          "text": [
            "Confidence: 100, tag: school bus\n",
            "Confidence: 100, tag: bus\n",
            "Confidence: 100, tag: public transport\n",
            "Confidence: 82.4753570556641, tag: conveyance\n",
            "Confidence: 60.7916526794434, tag: vehicle\n",
            "Confidence: 60.2506294250488, tag: transport\n",
            "Confidence: 60.058219909668, tag: transportation\n",
            "Confidence: 35.9066467285156, tag: travel\n",
            "Confidence: 34.3144111633301, tag: road\n",
            "Confidence: 33.9388389587402, tag: car\n",
            "Confidence: 32.9286041259766, tag: truck\n",
            "Confidence: 25.199182510376, tag: cargo\n",
            "Confidence: 23.4509544372559, tag: freight\n",
            "Confidence: 23.3141822814941, tag: public\n",
            "Confidence: 22.690523147583, tag: drive\n",
            "Confidence: 22.1681976318359, tag: highway\n",
            "Confidence: 21.6747131347656, tag: sky\n",
            "Confidence: 21.5570068359375, tag: passenger\n",
            "Confidence: 21.373836517334, tag: delivery\n",
            "Confidence: 20.3692607879639, tag: shipping\n",
            "Confidence: 20.108528137207, tag: automobile\n",
            "Confidence: 17.8879718780518, tag: yellow\n",
            "Confidence: 17.392578125, tag: speed\n",
            "Confidence: 17.319278717041, tag: tourism\n",
            "Confidence: 16.9722099304199, tag: trip\n",
            "Confidence: 16.4315986633301, tag: tour\n",
            "Confidence: 16.1655883789062, tag: school\n",
            "Confidence: 15.6424589157104, tag: street\n",
            "Confidence: 15.4563083648682, tag: driving\n",
            "Confidence: 15.3056316375732, tag: auto\n",
            "Confidence: 14.7352151870728, tag: lorry\n",
            "Confidence: 14.5047874450684, tag: industry\n",
            "Confidence: 14.3537359237671, tag: clouds\n",
            "Confidence: 14.147500038147, tag: wheel\n",
            "Confidence: 14.0197229385376, tag: fast\n",
            "Confidence: 13.7963066101074, tag: van\n",
            "Confidence: 13.6688222885132, tag: wheels\n",
            "Confidence: 13.5974550247192, tag: driver\n",
            "Confidence: 13.5765314102173, tag: ride\n",
            "Confidence: 13.2936925888062, tag: traffic\n",
            "Confidence: 12.8078804016113, tag: coach\n",
            "Confidence: 12.8056869506836, tag: trailer\n",
            "Confidence: 12.685510635376, tag: tourist\n",
            "Confidence: 12.4909658432007, tag: train\n",
            "Confidence: 12.2790069580078, tag: vacation\n",
            "Confidence: 12.1420707702637, tag: business\n",
            "Confidence: 11.9805002212524, tag: motion\n",
            "Confidence: 11.9671506881714, tag: toy\n",
            "Confidence: 11.835503578186, tag: old\n",
            "Confidence: 11.8311367034912, tag: trucking\n",
            "Confidence: 10.5722618103027, tag: engine\n",
            "Confidence: 10.1269063949585, tag: safety\n",
            "Confidence: 9.97616577148438, tag: industrial\n",
            "Confidence: 9.97532081604004, tag: city\n",
            "Confidence: 9.81698894500732, tag: diesel\n",
            "Confidence: 9.75790119171143, tag: route\n",
            "Confidence: 9.53918552398682, tag: heavy\n",
            "Confidence: 9.42559909820557, tag: blank\n",
            "Confidence: 9.41310024261475, tag: journey\n",
            "Confidence: 8.82025337219238, tag: automotive\n",
            "Confidence: 8.78901386260986, tag: object\n",
            "Confidence: 8.77720832824707, tag: students\n",
            "Confidence: 8.66061973571777, tag: education\n",
            "Confidence: 8.44766235351562, tag: commercial\n",
            "Confidence: 8.35324096679688, tag: summer\n",
            "Confidence: 8.33975982666016, tag: color\n",
            "Confidence: 8.32710742950439, tag: child\n",
            "Confidence: 8.24913883209229, tag: window\n",
            "Confidence: 8.22540855407715, tag: single\n",
            "Confidence: 7.89438247680664, tag: interstate\n",
            "Confidence: 7.86861610412598, tag: transit\n",
            "Confidence: 7.84136009216309, tag: day\n",
            "Confidence: 7.74238777160645, tag: motor\n",
            "Confidence: 7.67146921157837, tag: move\n",
            "Confidence: 7.53093767166138, tag: kids\n",
            "Confidence: 7.43216323852539, tag: blur\n",
            "Confidence: 7.2405161857605, tag: metal\n",
            "Confidence: 7.16882228851318, tag: holiday\n",
            "Confidence: 7.14467287063599, tag: bright\n"
          ]
        }
      ]
    }
  ]
}