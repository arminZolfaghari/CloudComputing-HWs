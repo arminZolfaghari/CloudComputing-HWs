{
  "nbformat": 4,
  "nbformat_minor": 0,
  "metadata": {
    "colab": {
      "provenance": [],
      "collapsed_sections": []
    },
    "kernelspec": {
      "name": "python3",
      "display_name": "Python 3"
    },
    "language_info": {
      "name": "python"
    },
    "accelerator": "GPU"
  },
  "cells": [
    {
      "cell_type": "code",
      "execution_count": 1,
      "metadata": {
        "colab": {
          "base_uri": "https://localhost:8080/"
        },
        "id": "C3nvOSbdy2zc",
        "outputId": "d06ce7b2-02f9-40c5-e1a6-6c4eddc027e0"
      },
      "outputs": [
        {
          "output_type": "stream",
          "name": "stdout",
          "text": [
            "Looking in indexes: https://pypi.org/simple, https://us-python.pkg.dev/colab-wheels/public/simple/\n",
            "Collecting mysql\n",
            "  Downloading mysql-0.0.3-py3-none-any.whl (1.2 kB)\n",
            "Collecting mysqlclient\n",
            "  Downloading mysqlclient-2.1.1.tar.gz (88 kB)\n",
            "\u001b[K     |████████████████████████████████| 88 kB 6.9 MB/s \n",
            "\u001b[?25hBuilding wheels for collected packages: mysqlclient\n",
            "  Building wheel for mysqlclient (setup.py) ... \u001b[?25l\u001b[?25hdone\n",
            "  Created wheel for mysqlclient: filename=mysqlclient-2.1.1-cp37-cp37m-linux_x86_64.whl size=99993 sha256=81bde32035707962135eaa4a585ae10717af3b3677c86ada74ad29610cdb668c\n",
            "  Stored in directory: /root/.cache/pip/wheels/95/2d/67/2cb3f82e435fc8e055cb2761a15a0812bf086068f6fb835462\n",
            "Successfully built mysqlclient\n",
            "Installing collected packages: mysqlclient, mysql\n",
            "Successfully installed mysql-0.0.3 mysqlclient-2.1.1\n",
            "Looking in indexes: https://pypi.org/simple, https://us-python.pkg.dev/colab-wheels/public/simple/\n",
            "Collecting mysql-connector-python\n",
            "  Downloading mysql_connector_python-8.0.30-cp37-cp37m-manylinux1_x86_64.whl (25.4 MB)\n",
            "\u001b[K     |████████████████████████████████| 25.4 MB 80.5 MB/s \n",
            "\u001b[?25hRequirement already satisfied: protobuf<=3.20.1,>=3.11.0 in /usr/local/lib/python3.7/dist-packages (from mysql-connector-python) (3.17.3)\n",
            "Requirement already satisfied: six>=1.9 in /usr/local/lib/python3.7/dist-packages (from protobuf<=3.20.1,>=3.11.0->mysql-connector-python) (1.15.0)\n",
            "Installing collected packages: mysql-connector-python\n",
            "Successfully installed mysql-connector-python-8.0.30\n"
          ]
        }
      ],
      "source": [
        "!pip install mysql\n",
        "!pip install mysql-connector-python"
      ]
    },
    {
      "cell_type": "markdown",
      "source": [
        "## Database info"
      ],
      "metadata": {
        "id": "YFRSFpcpOT7v"
      }
    },
    {
      "cell_type": "code",
      "source": [
        "HOST = \"mysql-2cd377df-arminzd1-13c6.aivencloud.com\"\n",
        "PORT = 20079\n",
        "USER = \"avnadmin\"\n",
        "PASSWORD = \"AVNS_uSmgWEtCqXTieqImRNk\"\n",
        "DATABASE = \"Test\""
      ],
      "metadata": {
        "id": "l1VfJXVhNXgZ"
      },
      "execution_count": 2,
      "outputs": []
    },
    {
      "cell_type": "markdown",
      "source": [
        "## Connect to database"
      ],
      "metadata": {
        "id": "NKfx5XRp2Sz-"
      }
    },
    {
      "cell_type": "code",
      "source": [
        "import mysql.connector\n",
        "\n",
        "mydb = mysql.connector.connect(\n",
        "  host = HOST,\n",
        "  port = PORT,\n",
        "  user = USER,\n",
        "  password = PASSWORD,\n",
        "  database = DATABASE\n",
        ")\n",
        "\n",
        "print(mydb)\n"
      ],
      "metadata": {
        "colab": {
          "base_uri": "https://localhost:8080/"
        },
        "id": "duhPOHqtzMWB",
        "outputId": "9e8365d2-5239-46f1-edc1-5026ddbb2daf"
      },
      "execution_count": 3,
      "outputs": [
        {
          "output_type": "stream",
          "name": "stdout",
          "text": [
            "<mysql.connector.connection_cext.CMySQLConnection object at 0x7fc2ba378590>\n"
          ]
        }
      ]
    },
    {
      "cell_type": "markdown",
      "source": [
        "## Create table"
      ],
      "metadata": {
        "id": "UnuLqyBp2XHn"
      }
    },
    {
      "cell_type": "code",
      "source": [
        "mycursor = mydb.cursor()\n",
        "\n",
        "mycursor.execute(\"CREATE TABLE users (name VARCHAR(255) primary key, address VARCHAR(255))\")"
      ],
      "metadata": {
        "id": "xX5b1BIS2beb"
      },
      "execution_count": 4,
      "outputs": []
    },
    {
      "cell_type": "code",
      "source": [
        "mycursor = mydb.cursor()\n",
        "\n",
        "mycursor.execute(\"SHOW TABLES\")\n",
        "\n",
        "for x in mycursor:\n",
        "  print(x)"
      ],
      "metadata": {
        "colab": {
          "base_uri": "https://localhost:8080/"
        },
        "id": "HsOCnAPa36ob",
        "outputId": "3602a5d6-523e-4fdc-d1f0-953fb6a67319"
      },
      "execution_count": 5,
      "outputs": [
        {
          "output_type": "stream",
          "name": "stdout",
          "text": [
            "('users',)\n"
          ]
        }
      ]
    },
    {
      "cell_type": "markdown",
      "source": [],
      "metadata": {
        "id": "CwT-bxfD3-1p"
      }
    },
    {
      "cell_type": "markdown",
      "source": [
        "## Insert data"
      ],
      "metadata": {
        "id": "T-g8JaST3-7q"
      }
    },
    {
      "cell_type": "code",
      "source": [
        "mycursor = mydb.cursor()\n",
        "\n",
        "sql = \"INSERT INTO users (name, address) VALUES (%s, %s)\"\n",
        "val = (\"John\", \"Highway 21\")\n",
        "mycursor.execute(sql, val)\n",
        "\n",
        "mydb.commit()\n",
        "\n",
        "print(mycursor.rowcount, \"record inserted.\")"
      ],
      "metadata": {
        "colab": {
          "base_uri": "https://localhost:8080/"
        },
        "id": "HZE7uM2I4BWS",
        "outputId": "ef4db84f-5486-425a-8562-5d19b4ad53ff"
      },
      "execution_count": 6,
      "outputs": [
        {
          "output_type": "stream",
          "name": "stdout",
          "text": [
            "1 record inserted.\n"
          ]
        }
      ]
    },
    {
      "cell_type": "markdown",
      "source": [
        "## Select"
      ],
      "metadata": {
        "id": "hq7rlXfI4ITX"
      }
    },
    {
      "cell_type": "code",
      "source": [
        "mycursor = mydb.cursor()\n",
        "\n",
        "mycursor.execute(\"SELECT * FROM users\")\n",
        "\n",
        "myresult = mycursor.fetchall()\n",
        "\n",
        "for x in myresult:\n",
        "  print(x)"
      ],
      "metadata": {
        "colab": {
          "base_uri": "https://localhost:8080/"
        },
        "id": "FDozsmpk4Ieo",
        "outputId": "7f12b662-e9ca-4b0b-d6a8-0a3f40f883f7"
      },
      "execution_count": 8,
      "outputs": [
        {
          "output_type": "stream",
          "name": "stdout",
          "text": [
            "('John', 'Highway 21')\n"
          ]
        }
      ]
    }
  ]
}